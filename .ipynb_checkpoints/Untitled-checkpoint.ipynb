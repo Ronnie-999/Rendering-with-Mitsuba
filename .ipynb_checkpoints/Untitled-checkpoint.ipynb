{
 "cells": [
  {
   "cell_type": "code",
   "execution_count": null,
   "id": "f8de4e20-241f-49d3-8c38-823cd95da58f",
   "metadata": {},
   "outputs": [],
   "source": [
    "import drjit as dr\n",
    "import mitsuba as mi\n",
    "\n",
    "mi.set_variant('cuda_ad_rgb')"
   ]
  },
  {
   "cell_type": "code",
   "execution_count": null,
   "id": "9b3d041f-5e25-47af-ae87-8985ab43658a",
   "metadata": {},
   "outputs": [],
   "source": [
    "scene = mi.load_file(r\"C:/Users/HTCV_DIRME/Downloads/scene.xml\", res=128, integrator='prb')\n",
    "\n",
    "# Render the reference image\n",
    "image_ref = mi.render(scene, spp=512)\n",
    "\n",
    "# Preview the reference image\n",
    "mi.util.convert_to_bitmap(image_ref)"
   ]
  },
  {
   "cell_type": "code",
   "execution_count": null,
   "id": "992d2d5e-48f2-4a65-be5a-fd85ec16a8cd",
   "metadata": {},
   "outputs": [],
   "source": [
    "params = mi.traverse(scene)\n",
    "key = 'green.reflectance.value'\n",
    "\n",
    "# Save the original value\n",
    "param_ref = mi.Color3f(params[key])\n",
    "\n",
    "# Set another color value and update the scene\n",
    "params[key] = mi.Color3f(0.01, 0.2, 0.9)\n",
    "params.update()"
   ]
  }
 ],
 "metadata": {
  "kernelspec": {
   "display_name": "Python 3 (ipykernel)",
   "language": "python",
   "name": "python3"
  },
  "language_info": {
   "codemirror_mode": {
    "name": "ipython",
    "version": 3
   },
   "file_extension": ".py",
   "mimetype": "text/x-python",
   "name": "python",
   "nbconvert_exporter": "python",
   "pygments_lexer": "ipython3",
   "version": "3.12.2"
  }
 },
 "nbformat": 4,
 "nbformat_minor": 5
}
